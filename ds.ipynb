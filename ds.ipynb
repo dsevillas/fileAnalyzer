{
 "cells": [
  {
   "cell_type": "code",
   "execution_count": null,
   "metadata": {},
   "outputs": [
    {
     "ename": "",
     "evalue": "",
     "output_type": "error",
     "traceback": [
      "\u001b[1;31mFailed to start the Kernel. \n",
      "\u001b[1;31mJupyter server crashed. Unable to connect. \n",
      "\u001b[1;31mError code from Jupyter: 1\n",
      "\u001b[1;31mTraceback (most recent call last):\n",
      "\u001b[1;31m  File \"/Library/Frameworks/Python.framework/Versions/3.11/bin/jupyter-notebook\", line 5, in <module>\n",
      "\u001b[1;31m\n",
      "\u001b[1;31m    from notebook.notebookapp import main\n",
      "\u001b[1;31m  File \"/Library/Frameworks/Python.framework/Versions/3.11/lib/python3.11/site-packages/notebook/notebookapp.py\", line 57, in <module>\n",
      "\u001b[1;31m    raise ImportError(_(\"The Jupyter Notebook requires tornado >= 5.0, but you have %s\") % tornado.version)\n",
      "\u001b[1;31mImportError: The Jupyter Notebook requires tornado >= 5.0, but you have 4.5.3. \n",
      "\u001b[1;31mView Jupyter <a href='command:jupyter.viewOutput'>log</a> for further details."
     ]
    }
   ],
   "source": [
    "from google.colab import data_table\n",
    "import pandas as pd\n",
    "data_table.enable_dataframe_formatter()\n",
    "import pandas as pd\n",
    "from google.colab import drive\n"
   ]
  },
  {
   "cell_type": "code",
   "execution_count": null,
   "metadata": {},
   "outputs": [
    {
     "ename": "",
     "evalue": "",
     "output_type": "error",
     "traceback": [
      "\u001b[1;31mFailed to start the Kernel. \n",
      "\u001b[1;31mJupyter server crashed. Unable to connect. \n",
      "\u001b[1;31mError code from Jupyter: 1\n",
      "\u001b[1;31mTraceback (most recent call last):\n",
      "\u001b[1;31m  File \"/Library/Frameworks/Python.framework/Versions/3.11/bin/jupyter-notebook\", line 5, in <module>\n",
      "\u001b[1;31m\n",
      "\u001b[1;31m    from notebook.notebookapp import main\n",
      "\u001b[1;31m  File \"/Library/Frameworks/Python.framework/Versions/3.11/lib/python3.11/site-packages/notebook/notebookapp.py\", line 57, in <module>\n",
      "\u001b[1;31m    raise ImportError(_(\"The Jupyter Notebook requires tornado >= 5.0, but you have %s\") % tornado.version)\n",
      "\u001b[1;31mImportError: The Jupyter Notebook requires tornado >= 5.0, but you have 4.5.3. \n",
      "\u001b[1;31mView Jupyter <a href='command:jupyter.viewOutput'>log</a> for further details."
     ]
    }
   ],
   "source": [
    "drive.mount('/content/gdrive') \n",
    "path = f'/content/gdrive/My Drive/TrabajoMaster/TrabajoTFM' \n",
    "\n",
    "path2=f'{path}/invoicesCSV.csv'\n",
    "\n",
    "print(path2)\n",
    "invoices = pd.read_csv(path2, sep=\";\") \n",
    "\n",
    "invoices.head(5)"
   ]
  }
 ],
 "metadata": {
  "kernelspec": {
   "display_name": "Python 3",
   "language": "python",
   "name": "python3"
  },
  "language_info": {
   "name": "python",
   "version": "3.11.0"
  },
  "orig_nbformat": 4,
  "vscode": {
   "interpreter": {
    "hash": "aee8b7b246df8f9039afb4144a1f6fd8d2ca17a180786b69acc140d282b71a49"
   }
  }
 },
 "nbformat": 4,
 "nbformat_minor": 2
}
